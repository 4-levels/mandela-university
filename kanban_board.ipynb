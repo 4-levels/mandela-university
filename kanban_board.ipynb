import plotly.graph_objects as go

# Define the tasks with additional details
tasks = {
    'To Do': [
        {'name': 'Define Project Scope', 'details': 'Finalize objectives and deliverables'},
        {'name': 'Assess Existing Infrastructure', 'details': 'Evaluate current ICT setup'},
        {'name': 'Select Design Option', 'details': 'Choose between design options #1, #2, or #3'}
    ],
    'In Progress': [
        {'name': 'Setup Transit VPC', 'details': 'Configure AWS Transit VPC'},
        {'name': 'Deploy Cisco SD-WAN Edge Devices', 'details': 'Install and configure SD-WAN devices'},
        {'name': 'Configure VPN Connections', 'details': 'Establish Site-to-Site VPNs'}
    ],
    'In Review': [
        {'name': 'Testing and Validation', 'details': 'Conduct security tests and validate setup'},
        {'name': 'Performance Benchmarking', 'details': 'Run performance tests to ensure efficiency'}
    ],
    'Done': [
        {'name': 'Training and Handover', 'details': 'Provide training to NMU IT staff'},
        {'name': 'Project Closure', 'details': 'Finalize documentation and close the project'}
    ]
}

# Assign colors to different stages
stage_colors = {
    'To Do': 'tomato',
    'In Progress': 'gold',
    'In Review': 'dodgerblue',
    'Done': 'lightgreen'
}

# Create a Kanban board with enhanced features
fig = go.Figure()

for stage, tasks_list in tasks.items():
    fig.add_trace(go.Bar(
        y=[task['name'] for task in tasks_list],
        x=[1]*len(tasks_list),
        name=stage,
        orientation='h',
        marker=dict(color=stage_colors[stage]),
        hoverinfo='text',
        hovertext=[task['details'] for task in tasks_list]
    ))

# Update layout to improve the appearance
fig.update_layout(
    barmode='stack',
    title='Enhanced Kanban Board - NMU Cisco Cloud OnRamp Implementation',
    xaxis=dict(
        showgrid=False,
        showticklabels=False
    ),
    yaxis=dict(
        title='Tasks',
        showgrid=True,
        zeroline=False
    ),
    height=500,
    width=800,
    margin=dict(l=100, r=100, t=100, b=100)
)

# Show the Kanban board
fig.show()
